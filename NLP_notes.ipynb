{
 "cells": [
  {
   "cell_type": "markdown",
   "metadata": {},
   "source": [
    "## NLP\n",
    "- analyzes natural language (v. formal language)\n",
    "- types:\n",
    "    - classification\n",
    "        - assign tags or categories to text according to its content\n",
    "        - apps: sentiment analysis, topic labeling, spam detection, intent detection\n",
    "        - supervised learning, set of possible classes are known/defined in advance\n",
    "    - topic modeling\n",
    "        - discover abstract topics taht occur in a collection of documents\n",
    "        - Latent Dirichlet Allocation (LDA) is a commonly used algorithm\n",
    "        - similar to text classification, but unsupervised\n",
    "- Process:\n",
    "    - text pre-processing\n",
    "    - feature engineering and text representation\n",
    "    - supervised learning models\n",
    "    - unsupervised learning models\n",
    "- * GPT3: cutting edge NLP\n",
    "- Wrangle:\n",
    "    - acquire\n",
    "    - convert to sentences\n",
    "    - normalize:\n",
    "        - generally, lowercase text\n",
    "        - sometimes: remove accents, special characters, numbers, punctuation\n",
    "        - stem/lemmatize words\n",
    "- Tokenize and Prep\n",
    "    - tokenize: break up text into tokens, linguistic units:\n",
    "        - words\n",
    "        - n-grams: set of co-occuring words (n-words) within a given window\n",
    "- Chunking\n",
    "- Vectorization\n",
    "- Resources:\n",
    "    - Hugging Face\n",
    "    - SpaCy\n",
    "- REGEX:\n",
    "    - re.search\n",
    "    - re.findall\n",
    "    - re.split\n",
    "    - re.sub"
   ]
  }
 ],
 "metadata": {
  "kernelspec": {
   "display_name": "Python 3.9.7 ('base')",
   "language": "python",
   "name": "python3"
  },
  "language_info": {
   "name": "python",
   "version": "3.9.7"
  },
  "orig_nbformat": 4,
  "vscode": {
   "interpreter": {
    "hash": "38cca0c38332a56087b24af0bc80247f4fced29cb4f7f437d91dc159adec9c4e"
   }
  }
 },
 "nbformat": 4,
 "nbformat_minor": 2
}
