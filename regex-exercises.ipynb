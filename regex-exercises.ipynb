{
 "cells": [
  {
   "cell_type": "markdown",
   "metadata": {},
   "source": [
    "## Notes on regex syntax:\n",
    "- regex101.com\n",
    "- this is a character class: []\n",
    "- \".\" means all, similar to \"*\" in SQL\n",
    "- inside of a character class:\n",
    "    - \" ^ \" means not in, similar to python \"!=\". example r\"[^a]\" would  NOT return \"apple\" if apple was in the list.\n",
    "    - oustide of a character class, \" ^ \" means begins with. example r\"^a\" would return \"apple\" if apple was in the list.\n",
    "- use regex101's comment tool to generate comments in your code\n",
    "- for using Regex with HTML: https://html.spec.whatwg.org/multipage/forms.html#valid-e-mail-address"
   ]
  },
  {
   "cell_type": "markdown",
   "metadata": {},
   "source": [
    "- match objects"
   ]
  },
  {
   "cell_type": "code",
   "execution_count": 3,
   "metadata": {},
   "outputs": [],
   "source": [
    "import re"
   ]
  },
  {
   "cell_type": "code",
   "execution_count": 4,
   "metadata": {},
   "outputs": [
    {
     "data": {
      "text/plain": [
       "['bc']"
      ]
     },
     "execution_count": 4,
     "metadata": {},
     "output_type": "execute_result"
    }
   ],
   "source": [
    "re.findall(r'bc', 'abcd')"
   ]
  },
  {
   "cell_type": "code",
   "execution_count": 5,
   "metadata": {},
   "outputs": [],
   "source": [
    "def show_all_matches(regexes, subject, re_length=6):\n",
    "    print('Sentence:')\n",
    "    print()\n",
    "    print('      {}'.format(subject))\n",
    "    print()\n",
    "    print('regexp{} | matches'.format(' ' * (re_length - 6)))\n",
    "    print(' ------{} | ------'.format(' ' * (re_length - 6)))\n",
    "    for regexp in regexes:\n",
    "        fmt = ' {:<%d} | {!r}' % re_length\n",
    "        matches = re.findall(regexp, subject)\n",
    "        if len(matches) > 8:\n",
    "            matches = matches[:8] + ['...']\n",
    "        print(fmt.format(regexp, matches))"
   ]
  },
  {
   "cell_type": "code",
   "execution_count": 6,
   "metadata": {},
   "outputs": [
    {
     "name": "stdout",
     "output_type": "stream",
     "text": [
      "Sentence:\n",
      "\n",
      "      Mary had a little lamb. 1 little lamb. Not 10, not 12, not 22, just one.\n",
      "\n",
      "regexp | matches\n",
      " ------ | ------\n",
      " a      | ['a', 'a', 'a', 'a', 'a']\n",
      " m      | ['m', 'm']\n",
      " M      | ['M']\n",
      " Mary   | ['Mary']\n",
      " little | ['little', 'little']\n",
      " 1      | ['1', '1', '1']\n",
      " 10     | ['10']\n",
      " 22     | ['22']\n"
     ]
    }
   ],
   "source": [
    "sentence = 'Mary had a little lamb. 1 little lamb. Not 10, not 12, not 22, just one.'\n",
    "\n",
    "show_all_matches([\n",
    "    r'a',\n",
    "    r'm',\n",
    "    r'M',\n",
    "    r'Mary',\n",
    "    r'little',\n",
    "    r'1',\n",
    "    r'10',\n",
    "    r'22'\n",
    "], sentence)\n"
   ]
  },
  {
   "cell_type": "markdown",
   "metadata": {},
   "source": [
    "metacharacter\t    matches\n",
    "<br>\n",
    ".      = anything\n",
    "<br>\n",
    "\\w\t   = any letter or number\n",
    "<br>\n",
    "\\W\t   = anything that's not a letter or number\n",
    "<br>\n",
    "\\d\t   = any digit\n",
    "<br>\n",
    "\\D\t   = anything that's not a digit\n",
    "<br>\n",
    "\\s\t   = any whitespace character"
   ]
  },
  {
   "cell_type": "code",
   "execution_count": 7,
   "metadata": {},
   "outputs": [
    {
     "name": "stdout",
     "output_type": "stream",
     "text": [
      "Sentence:\n",
      "\n",
      "      Mary had a little lamb. 1 little lamb. Not 10, not 12, not 22, just one.\n",
      "\n",
      "regexp | matches\n",
      " ------ | ------\n",
      " \\w     | ['M', 'a', 'r', 'y', 'h', 'a', 'd', 'a', '...']\n",
      " \\d     | ['1', '1', '0', '1', '2', '2', '2']\n",
      " \\s     | [' ', ' ', ' ', ' ', ' ', ' ', ' ', ' ', '...']\n",
      " .      | ['M', 'a', 'r', 'y', ' ', 'h', 'a', 'd', '...']\n",
      " \\.     | ['.', '.', '.']\n"
     ]
    }
   ],
   "source": [
    "res = [\n",
    "    r'\\w',\n",
    "    r'\\d',\n",
    "    r'\\s',\n",
    "    r'.', # matches every character\n",
    "    r'\\.', # a literal period\n",
    "]\n",
    "show_all_matches(res, sentence)\n"
   ]
  },
  {
   "cell_type": "markdown",
   "metadata": {},
   "source": [
    "## Exercises"
   ]
  },
  {
   "cell_type": "markdown",
   "metadata": {},
   "source": [
    "### 1. Write a function named is_vowel. It should accept a string as input and use a regular expression to determine if the passed string is a vowel. While not explicity mentioned in the lesson, you can treat the result of re.search as a boolean value that indicates whether or not the regular expression matches the given string."
   ]
  },
  {
   "cell_type": "code",
   "execution_count": 10,
   "metadata": {},
   "outputs": [],
   "source": [
    "def is_vowel(word):\n",
    "    vowels = []\n",
    "    vowels_bool = []\n",
    "    for letter in word:\n",
    "        if re.search(r\"^[aeiouAEIOU]$\",letter):\n",
    "            vowels.append(letter)\n",
    "            vowels_bool.append(True)\n",
    "    return vowels, vowels_bool"
   ]
  },
  {
   "cell_type": "code",
   "execution_count": 11,
   "metadata": {},
   "outputs": [
    {
     "data": {
      "text/plain": [
       "(['a', 'a', 'a'], [True, True, True])"
      ]
     },
     "execution_count": 11,
     "metadata": {},
     "output_type": "execute_result"
    }
   ],
   "source": [
    "is_vowel('banana')"
   ]
  },
  {
   "cell_type": "markdown",
   "metadata": {},
   "source": [
    "### 2. Write a function named is_valid_username that accepts a string as input. A valid username starts with a lowercase letter, and only consists of lowercase letters, numbers, or the _ character. It should also be no longer than 32 characters. The function should return either True or False depending on whether the passed string is a valid username."
   ]
  },
  {
   "cell_type": "code",
   "execution_count": 13,
   "metadata": {},
   "outputs": [],
   "source": [
    "def is_valid_username(string):\n",
    "    # ^ = begins with\n",
    "    # specify: begins with lowercase a-z = ^[a-z]\n",
    "    # \\w = [0-9a-zA-Z_] >> but not used in this expression\n",
    "    # specify operators, use square brackets to delimit letters\n",
    "    # $ to terminate list evaluation\n",
    "    return bool(re.search(r\"^[a-z][a-z_0-9]{0,31}$\", string))"
   ]
  },
  {
   "cell_type": "code",
   "execution_count": 14,
   "metadata": {},
   "outputs": [],
   "source": [
    "a = 'a' * 35\n",
    "kyle = 'sensei_36'"
   ]
  },
  {
   "cell_type": "code",
   "execution_count": 15,
   "metadata": {},
   "outputs": [
    {
     "data": {
      "text/plain": [
       "False"
      ]
     },
     "execution_count": 15,
     "metadata": {},
     "output_type": "execute_result"
    }
   ],
   "source": [
    "is_valid_username(a)"
   ]
  },
  {
   "cell_type": "code",
   "execution_count": 16,
   "metadata": {},
   "outputs": [
    {
     "data": {
      "text/plain": [
       "True"
      ]
     },
     "execution_count": 16,
     "metadata": {},
     "output_type": "execute_result"
    }
   ],
   "source": [
    "is_valid_username('fred_lindsey_92')"
   ]
  },
  {
   "cell_type": "code",
   "execution_count": 17,
   "metadata": {},
   "outputs": [
    {
     "data": {
      "text/plain": [
       "True"
      ]
     },
     "execution_count": 17,
     "metadata": {},
     "output_type": "execute_result"
    }
   ],
   "source": [
    "is_valid_username(kyle)"
   ]
  },
  {
   "cell_type": "code",
   "execution_count": 19,
   "metadata": {},
   "outputs": [],
   "source": [
    "assert is_valid_username('aaaaaaaaaaaaaaaaaaaaaaaaaaaaaaaaa')==False\n",
    "assert is_valid_username('codeup') == True\n",
    "assert is_valid_username('Codeup') == False\n",
    "assert is_valid_username('codeup123') == True\n",
    "assert is_valid_username('1codeup') == False"
   ]
  },
  {
   "cell_type": "markdown",
   "metadata": {},
   "source": [
    "### 3. Write a regular expression to capture phone numbers. It should match all of the following:"
   ]
  },
  {
   "cell_type": "markdown",
   "metadata": {},
   "source": [
    "- phone_numbers = '(210) 867 5309', '+1 210.867.5309', '867-5309', '210-867-5309'"
   ]
  },
  {
   "cell_type": "code",
   "execution_count": 159,
   "metadata": {},
   "outputs": [],
   "source": [
    "\n",
    "def capture_phone_numbers(string):\n",
    "    \"\"\"\n",
    "\n",
    " Expression:       r\"(\\+1)?\\W?(\\(?[\\d]{3}?\\)?\\W?)?[\\d]{3}[\\.\\- ][\\d]{4}$\"\n",
    "\n",
    "1st Capturing Group: (\\+1)?\n",
    "\n",
    "? matches the previous token between zero and one times, as many times as possible, giving back as needed (greedy)\n",
    "\\+ matches the character + with index 4310 (2B16 or 538) literally (case sensitive)\n",
    "1 matches the character 1 with index 4910 (3116 or 618) literally (case sensitive)\n",
    "\\W matches any non-word character (equivalent to [^a-zA-Z0-9_])\n",
    "? matches the previous token between zero and one times, as many times as possible, giving back as needed (greedy)\n",
    "\n",
    "2nd Capturing Group: (\\(?[\\d]{3}?\\)?\\W?)?\n",
    "\n",
    "? matches the previous token between zero and one times, as many times as possible, giving back as needed (greedy)\n",
    "\\( matches the character ( with index 4010 (2816 or 508) literally (case sensitive)\n",
    "? matches the previous token between zero and one times, as many times as possible, giving back as needed (greedy)\n",
    "Match a single character present in the list below [\\d]\n",
    "{3}? matches the previous token exactly 3 times\n",
    "\\d matches a digit (equivalent to [0-9])\n",
    "\\) matches the character ) with index 4110 (2916 or 518) literally (case sensitive)\n",
    "? matches the previous token between zero and one times, as many times as possible, giving back as needed (greedy)\n",
    "\\W matches any non-word character (equivalent to [^a-zA-Z0-9_])\n",
    "? matches the previous token between zero and one times, as many times as possible, giving back as needed (greedy)\n",
    "Match a single character present in the list below [\\d]\n",
    "{3} matches the previous token exactly 3 times\n",
    "\\d matches a digit (equivalent to [0-9])\n",
    "Match a single character present in the list below [\\.\\- ]\n",
    "\\. matches the character . with index 4610 (2E16 or 568) literally (case sensitive)\n",
    "\\- matches the character - with index 4510 (2D16 or 558) literally (case sensitive)\n",
    "  matches the character   with index 3210 (2016 or 408) literally (case sensitive)\n",
    "Match a single character present in the list below [\\d]\n",
    "{4} matches the previous token exactly 4 times\n",
    "\\d matches a digit (equivalent to [0-9])\n",
    "$ asserts position at the end of a line\n",
    "Global pattern flags \n",
    "g modifier: global. All matches (don't return after first match)\n",
    "m modifier: multi line. Causes ^ and $ to match the begin/end of each line (not only begin/end of string)\n",
    "    \"\"\"\n",
    "    # needs to start with number, +, or (\n",
    "    # needs to tolerate additional . , - , or \" \"\n",
    "    #begins with '+', '(', or 0-9\n",
    "    # leads to \" \", 0-9, \".\", \"+\", \")\"\n",
    "    # length: 0-15 characters\n",
    "    # \\w = any alphanumeric\n",
    "    # \\W = any non-alphanumeric\n",
    "    return bool(re.search(\n",
    "        r\"(\\+1)?\\W?(\\(?[\\d]{3}?\\)?\\W?)?[\\d]{3}[\\.\\- ][\\d]{4}$\", \n",
    "        string)), string\n",
    "            \n"
   ]
  },
  {
   "cell_type": "code",
   "execution_count": 160,
   "metadata": {},
   "outputs": [
    {
     "data": {
      "text/plain": [
       "(True, '+1 210.867.5309')"
      ]
     },
     "execution_count": 160,
     "metadata": {},
     "output_type": "execute_result"
    }
   ],
   "source": [
    "capture_phone_numbers('+1 210.867.5309')"
   ]
  },
  {
   "cell_type": "code",
   "execution_count": 161,
   "metadata": {},
   "outputs": [
    {
     "data": {
      "text/plain": [
       "(True, '(210) 867 5309')"
      ]
     },
     "execution_count": 161,
     "metadata": {},
     "output_type": "execute_result"
    }
   ],
   "source": [
    "capture_phone_numbers('(210) 867 5309')"
   ]
  },
  {
   "cell_type": "code",
   "execution_count": 162,
   "metadata": {},
   "outputs": [
    {
     "data": {
      "text/plain": [
       "(True, '867-5309')"
      ]
     },
     "execution_count": 162,
     "metadata": {},
     "output_type": "execute_result"
    }
   ],
   "source": [
    "capture_phone_numbers('867-5309')"
   ]
  },
  {
   "cell_type": "markdown",
   "metadata": {},
   "source": [
    "### 4. Use regular expressions to convert the dates below to the standardized year-month-day format."
   ]
  },
  {
   "cell_type": "code",
   "execution_count": 25,
   "metadata": {},
   "outputs": [],
   "source": [
    "dates = ['02/04/19', '02/05/19', '02/06/19', '02/07/19', '02/08/19', '02/09/19', '02/10/19']"
   ]
  },
  {
   "cell_type": "code",
   "execution_count": 26,
   "metadata": {},
   "outputs": [],
   "source": [
    "# REGEX doesn't use 0 indexing....start index from 1, unless you use .groups()\n",
    "def convert_to_YYMMDD(dates):\n",
    "    # split on / and return to lists\n",
    "    reformatted_dates = []\n",
    "    for date in dates:\n",
    "        result = re.search(r\"^(\\d{2})/(\\d{2})/(\\d{2})$\", date)\n",
    "        reformatted_dates.append (f'{result[3]}/{result[2]}/{result[1]}')\n",
    "    return reformatted_dates "
   ]
  },
  {
   "cell_type": "code",
   "execution_count": 29,
   "metadata": {},
   "outputs": [
    {
     "data": {
      "text/plain": [
       "0    02/04/19\n",
       "1    02/05/19\n",
       "2    02/06/19\n",
       "3    02/07/19\n",
       "4    02/08/19\n",
       "5    02/09/19\n",
       "6    02/10/19\n",
       "dtype: object"
      ]
     },
     "execution_count": 29,
     "metadata": {},
     "output_type": "execute_result"
    }
   ],
   "source": [
    "#another solution:\n",
    "dates_new = pd.Series(dates)\n",
    "dates_new"
   ]
  },
  {
   "cell_type": "code",
   "execution_count": 33,
   "metadata": {},
   "outputs": [
    {
     "data": {
      "text/plain": [
       "0    2019-04-02\n",
       "1    2019-05-02\n",
       "2    2019-06-02\n",
       "3    2019-07-02\n",
       "4    2019-08-02\n",
       "5    2019-09-02\n",
       "6    2019-10-02\n",
       "dtype: object"
      ]
     },
     "execution_count": 33,
     "metadata": {},
     "output_type": "execute_result"
    }
   ],
   "source": [
    "dates_new = dates_new.str.replace(r\"(\\d{2})/(\\d{2})/(\\d{2})\", r\"20\\3-\\2-\\1\", regex=True)\n",
    "dates_new"
   ]
  },
  {
   "cell_type": "code",
   "execution_count": 34,
   "metadata": {},
   "outputs": [
    {
     "data": {
      "text/plain": [
       "['19/04/02',\n",
       " '19/05/02',\n",
       " '19/06/02',\n",
       " '19/07/02',\n",
       " '19/08/02',\n",
       " '19/09/02',\n",
       " '19/10/02']"
      ]
     },
     "execution_count": 34,
     "metadata": {},
     "output_type": "execute_result"
    }
   ],
   "source": [
    "convert_to_YYMMDD(dates)"
   ]
  },
  {
   "cell_type": "markdown",
   "metadata": {},
   "source": [
    "### 5. Write a regex to extract the various parts of these logfile lines:"
   ]
  },
  {
   "cell_type": "code",
   "execution_count": 35,
   "metadata": {},
   "outputs": [],
   "source": [
    "logs = ['GET /api/v1/sales?page=86 [16/Apr/2019:193452+0000] HTTP/1.1 {200} 510348 \"python-requests/2.21.0\" 97.105.19.58',\n",
    "'POST /users_accounts/file-upload [16/Apr/2019:193452+0000] HTTP/1.1 {201} 42 \"User-Agent: Mozilla/5.0 (X11; Fedora; Fedora; Linux x86_64) AppleWebKit/537.36 (KHTML, like Gecko) Chrome/73.0.3683.86 Safari/537.36\" 97.105.19.58',\n",
    "'GET /api/v1/items?page=3 [16/Apr/2019:193453+0000] HTTP/1.1 {429} 3561 \"python-requests/2.21.0\" 97.105.19.58']\n"
   ]
  },
  {
   "cell_type": "code",
   "execution_count": 36,
   "metadata": {},
   "outputs": [],
   "source": [
    "# use split \n",
    "def get_logfile_parts(logs):\n",
    "   #create a list of dictionaries to put the generated dicts into\n",
    "    logfile_dict_list = []\n",
    "   # write a loop to deal with the logs:\n",
    "    for string in logs:\n",
    "      # split on the spaces, in each string\n",
    "       split = re.split(r\" \", string)\n",
    "       # send the split strings into a dictionary, by their split index\n",
    "       logfile_dict = {'method': split[0], 'path': split[1], 'access_DTG': split[2], \n",
    "       'protocol': split[3], 'status': split[4], 'bytes_transferred': split[5], \n",
    "       'headers': split[6], 'ip': split[7]}\n",
    "       # put each dictionary into a master list to hold the values\n",
    "       logfile_dict_list.append(logfile_dict)\n",
    "   #return the master dict outside of the loop\n",
    "    return logfile_dict_list"
   ]
  },
  {
   "cell_type": "code",
   "execution_count": 37,
   "metadata": {},
   "outputs": [
    {
     "data": {
      "text/plain": [
       "[{'method': 'GET',\n",
       "  'path': '/api/v1/sales?page=86',\n",
       "  'access_DTG': '[16/Apr/2019:193452+0000]',\n",
       "  'protocol': 'HTTP/1.1',\n",
       "  'status': '{200}',\n",
       "  'bytes_transferred': '510348',\n",
       "  'headers': '\"python-requests/2.21.0\"',\n",
       "  'ip': '97.105.19.58'},\n",
       " {'method': 'POST',\n",
       "  'path': '/users_accounts/file-upload',\n",
       "  'access_DTG': '[16/Apr/2019:193452+0000]',\n",
       "  'protocol': 'HTTP/1.1',\n",
       "  'status': '{201}',\n",
       "  'bytes_transferred': '42',\n",
       "  'headers': '\"User-Agent:',\n",
       "  'ip': 'Mozilla/5.0'},\n",
       " {'method': 'GET',\n",
       "  'path': '/api/v1/items?page=3',\n",
       "  'access_DTG': '[16/Apr/2019:193453+0000]',\n",
       "  'protocol': 'HTTP/1.1',\n",
       "  'status': '{429}',\n",
       "  'bytes_transferred': '3561',\n",
       "  'headers': '\"python-requests/2.21.0\"',\n",
       "  'ip': '97.105.19.58'}]"
      ]
     },
     "execution_count": 37,
     "metadata": {},
     "output_type": "execute_result"
    }
   ],
   "source": [
    "get_logfile_parts(logs)"
   ]
  },
  {
   "cell_type": "code",
   "execution_count": 38,
   "metadata": {},
   "outputs": [
    {
     "data": {
      "text/html": [
       "<div><div id=fdbd7c03-8f34-438d-977e-7edfe35dff2a style=\"display:none; background-color:#9D6CFF; color:white; width:200px; height:30px; padding-left:5px; border-radius:4px; flex-direction:row; justify-content:space-around; align-items:center;\" onmouseover=\"this.style.backgroundColor='#BA9BF8'\" onmouseout=\"this.style.backgroundColor='#9D6CFF'\" onclick=\"window.commands?.execute('create-mitosheet-from-dataframe-output');\">See Full Dataframe in Mito</div> <script> if (window.commands?.hasCommand('create-mitosheet-from-dataframe-output')) document.getElementById('fdbd7c03-8f34-438d-977e-7edfe35dff2a').style.display = 'flex' </script> <table border=\"1\" class=\"dataframe\">\n",
       "  <thead>\n",
       "    <tr style=\"text-align: right;\">\n",
       "      <th></th>\n",
       "      <th>method</th>\n",
       "      <th>path</th>\n",
       "      <th>access_DTG</th>\n",
       "      <th>protocol</th>\n",
       "      <th>status</th>\n",
       "      <th>bytes_transferred</th>\n",
       "      <th>headers</th>\n",
       "      <th>ip</th>\n",
       "    </tr>\n",
       "  </thead>\n",
       "  <tbody>\n",
       "    <tr>\n",
       "      <th>0</th>\n",
       "      <td>GET</td>\n",
       "      <td>/api/v1/sales?page=86</td>\n",
       "      <td>[16/Apr/2019:193452+0000]</td>\n",
       "      <td>HTTP/1.1</td>\n",
       "      <td>{200}</td>\n",
       "      <td>510348</td>\n",
       "      <td>\"python-requests/2.21.0\"</td>\n",
       "      <td>97.105.19.58</td>\n",
       "    </tr>\n",
       "    <tr>\n",
       "      <th>1</th>\n",
       "      <td>POST</td>\n",
       "      <td>/users_accounts/file-upload</td>\n",
       "      <td>[16/Apr/2019:193452+0000]</td>\n",
       "      <td>HTTP/1.1</td>\n",
       "      <td>{201}</td>\n",
       "      <td>42</td>\n",
       "      <td>\"User-Agent:</td>\n",
       "      <td>Mozilla/5.0</td>\n",
       "    </tr>\n",
       "    <tr>\n",
       "      <th>2</th>\n",
       "      <td>GET</td>\n",
       "      <td>/api/v1/items?page=3</td>\n",
       "      <td>[16/Apr/2019:193453+0000]</td>\n",
       "      <td>HTTP/1.1</td>\n",
       "      <td>{429}</td>\n",
       "      <td>3561</td>\n",
       "      <td>\"python-requests/2.21.0\"</td>\n",
       "      <td>97.105.19.58</td>\n",
       "    </tr>\n",
       "  </tbody>\n",
       "</table></div>"
      ],
      "text/plain": [
       "  method                         path                 access_DTG  protocol  \\\n",
       "0    GET        /api/v1/sales?page=86  [16/Apr/2019:193452+0000]  HTTP/1.1   \n",
       "1   POST  /users_accounts/file-upload  [16/Apr/2019:193452+0000]  HTTP/1.1   \n",
       "2    GET         /api/v1/items?page=3  [16/Apr/2019:193453+0000]  HTTP/1.1   \n",
       "\n",
       "  status bytes_transferred                   headers            ip  \n",
       "0  {200}            510348  \"python-requests/2.21.0\"  97.105.19.58  \n",
       "1  {201}                42              \"User-Agent:   Mozilla/5.0  \n",
       "2  {429}              3561  \"python-requests/2.21.0\"  97.105.19.58  "
      ]
     },
     "execution_count": 38,
     "metadata": {},
     "output_type": "execute_result"
    }
   ],
   "source": [
    "cool_df = pd.DataFrame(get_logfile_parts(logs))\n",
    "cool_df"
   ]
  },
  {
   "cell_type": "code",
   "execution_count": null,
   "metadata": {},
   "outputs": [],
   "source": [
    "#another way\n",
    "\n",
    "#convert strings to a series >> pd.Series('')\n",
    "\n",
    "#create logfile_re with multiline lableled string\n",
    "#logfile_re = r\"\"\"\"\n",
    "# REGEX statement, label using P<http_version> within capture groups \n",
    "# \"\"\"\n",
    "\n",
    "# then...\n",
    "\n",
    "#series.str.exract(logfile_re, re.VERBOSE) will turn the product into a dataframe"
   ]
  }
 ],
 "metadata": {
  "kernelspec": {
   "display_name": "Python 3.9.7 ('base')",
   "language": "python",
   "name": "python3"
  },
  "language_info": {
   "codemirror_mode": {
    "name": "ipython",
    "version": 3
   },
   "file_extension": ".py",
   "mimetype": "text/x-python",
   "name": "python",
   "nbconvert_exporter": "python",
   "pygments_lexer": "ipython3",
   "version": "3.9.7"
  },
  "orig_nbformat": 4,
  "vscode": {
   "interpreter": {
    "hash": "38cca0c38332a56087b24af0bc80247f4fced29cb4f7f437d91dc159adec9c4e"
   }
  }
 },
 "nbformat": 4,
 "nbformat_minor": 2
}
