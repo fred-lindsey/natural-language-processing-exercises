{
 "cells": [
  {
   "cell_type": "markdown",
   "metadata": {},
   "source": [
    "### Process\n",
    "\n",
    "- 1. convert text to lower case\n",
    "- 2. remove accented , non-ASCII characters\n",
    "- 3. remove special characters\n",
    "- 4. stem/lemmatize\n",
    "- 5. remove stopwords\n",
    "- 6. store clean text, as well as original text"
   ]
  },
  {
   "cell_type": "code",
   "execution_count": 2,
   "metadata": {},
   "outputs": [],
   "source": [
    "import unicodedata\n",
    "import re\n",
    "import json\n",
    "import nltk\n",
    "from nltk.tokenize.toktok import ToktokTokenizer\n",
    "from nltk.corpus import stopwords\n",
    "\n",
    "import pandas as pd\n",
    "import acquire"
   ]
  },
  {
   "cell_type": "code",
   "execution_count": 3,
   "metadata": {},
   "outputs": [
    {
     "data": {
      "text/html": [
       "<div><div id=1a07f8d4-8940-4397-8985-34e431f1df18 style=\"display:none; background-color:#9D6CFF; color:white; width:200px; height:30px; padding-left:5px; border-radius:4px; flex-direction:row; justify-content:space-around; align-items:center;\" onmouseover=\"this.style.backgroundColor='#BA9BF8'\" onmouseout=\"this.style.backgroundColor='#9D6CFF'\" onclick=\"window.commands?.execute('create-mitosheet-from-dataframe-output');\">See Full Dataframe in Mito</div> <script> if (window.commands?.hasCommand('create-mitosheet-from-dataframe-output')) document.getElementById('1a07f8d4-8940-4397-8985-34e431f1df18').style.display = 'flex' </script> <table border=\"1\" class=\"dataframe\">\n",
       "  <thead>\n",
       "    <tr style=\"text-align: right;\">\n",
       "      <th></th>\n",
       "      <th>Unnamed: 0</th>\n",
       "      <th>title</th>\n",
       "      <th>content</th>\n",
       "      <th>category</th>\n",
       "    </tr>\n",
       "  </thead>\n",
       "  <tbody>\n",
       "    <tr>\n",
       "      <th>0</th>\n",
       "      <td>0</td>\n",
       "      <td>Uddhav fires Sena leaders for 'anti-party' acts, Maha CM adds them to his faction</td>\n",
       "      <td>Former Maharashtra CM Uddhav Thackeray on Monday sacked several Shiv Sena leaders, including former state minister Ramdas Kadam and senior party leader Anandrao Vithoba Adsul for anti-party activities. CM Eknath Shinde has reportedly appointed them as leaders of a new 'National Executive Committee'. Shinde also reportedly elected party MLA Deepak Kesarkar as chief spokesperson of the committee.</td>\n",
       "      <td>national</td>\n",
       "    </tr>\n",
       "    <tr>\n",
       "      <th>1</th>\n",
       "      <td>1</td>\n",
       "      <td>La Ganesan takes oath as Bengal Guv as Dhankhar nominated for Vice-Prez poll</td>\n",
       "      <td>Manipur Governor La Ganesan on Monday took oath as the new Governor of West Bengal after the resignation of Jagdeep Dhankhar, who has been nominated as NDA's Vice Presidential candidate. Ganesan has been given the additional charge of West Bengal. CM Mamata Banerjee welcomed him by presenting him with a flower bouquet after the swearing-in ceremony.</td>\n",
       "      <td>national</td>\n",
       "    </tr>\n",
       "    <tr>\n",
       "      <th>2</th>\n",
       "      <td>2</td>\n",
       "      <td>Nupur Sharma moves SC again, says 'got rape &amp; death threats after SC criticism'</td>\n",
       "      <td>Suspended BJP leader Nupur Sharma has moved the Supreme Court (SC) again to club the various FIRs filed against her over her remarks on Prophet Muhammad. She said she received \"renewed\" rape and death threats after SC's \"unexpected and harsh criticism\" of her earlier. The plea will be heard tomorrow by Justices Surya Kant and JB Pardiwala who'd criticised her.</td>\n",
       "      <td>national</td>\n",
       "    </tr>\n",
       "    <tr>\n",
       "      <th>3</th>\n",
       "      <td>3</td>\n",
       "      <td>CBI arrests 8 persons for alleged malpractices in NEET UG 2022 exam</td>\n",
       "      <td>The Central Bureau of Investigation (CBI) arrested eight people on Monday for alleged malpractices in NEET UG 2022 exam held on July 17. The CBI claimed that candidates' user IDs and passwords were collected by the accused, who made necessary modifications to get desired examination centres. The accused also tried to morph photographs to facilitate use of proxy candidates.</td>\n",
       "      <td>national</td>\n",
       "    </tr>\n",
       "    <tr>\n",
       "      <th>4</th>\n",
       "      <td>4</td>\n",
       "      <td>Male model, friend arrested with cannabis worth ₹1cr; supplied drugs in DU campus</td>\n",
       "      <td>A 25-year-old Delhi-based model named Shubham Malhotra and his 27-year-old friend Kriti have been arrested with premium quality 'charas' (cannabis) worth ₹1 crore. The duo allegedly supplied drugs to youngsters around the Delhi University (DU) campus. They were allegedly procuring 'charas' from Himachal Pradesh's Malana and transporting it to Delhi hidden in a pillow in their car.</td>\n",
       "      <td>national</td>\n",
       "    </tr>\n",
       "    <tr>\n",
       "      <th>...</th>\n",
       "      <td>...</td>\n",
       "      <td>...</td>\n",
       "      <td>...</td>\n",
       "      <td>...</td>\n",
       "    </tr>\n",
       "    <tr>\n",
       "      <th>292</th>\n",
       "      <td>292</td>\n",
       "      <td>China's BYD surpasses Tesla to become world's top-selling EV brand: Report</td>\n",
       "      <td>Chinese automaker BYD has reportedly surpassed Elon Musk's Tesla to become the world's top-selling electronic vehicle (EV) brand in the first half of 2022. While BYD sold 641,000 EVs between January and June this year, the figure stood at 564,000 for Tesla, Financial Times reported. Tesla's supply and production chain was disrupted after China imposed lockdowns due to COVID-19.</td>\n",
       "      <td>automobile</td>\n",
       "    </tr>\n",
       "    <tr>\n",
       "      <th>293</th>\n",
       "      <td>293</td>\n",
       "      <td>Ford recalls 100,000 vehicles in US over potential fire hazard</td>\n",
       "      <td>Automobile manufacturer Ford has recalled 100,000 vehicles in the US over potential fire risks. The recall covers certain 2020-2022 units of Ford Escape, Maverick and Lincoln Corsair with hybrid engines that can catch fire in case of an engine failure, the company said. However, it added that the issue has caused no accidents or injuries so far.</td>\n",
       "      <td>automobile</td>\n",
       "    </tr>\n",
       "    <tr>\n",
       "      <th>294</th>\n",
       "      <td>294</td>\n",
       "      <td>Hero MotoCorp gets permit to use 'Hero' trademark for its EVs</td>\n",
       "      <td>A Delhi High Court-appointed arbitration panel has permitted Hero MotoCorp to manufacture and sell EVs under the trademark 'Hero'. It dismissed the application filed by Hero Electric for an interim injunction against Hero MotoCorp using the 'Hero' brand for EVs. The tribunal emphasised our ₹7,000-crore expenses on the brand building of Hero in the past 10 years, Hero MotoCorp said.</td>\n",
       "      <td>automobile</td>\n",
       "    </tr>\n",
       "    <tr>\n",
       "      <th>295</th>\n",
       "      <td>295</td>\n",
       "      <td>Fully agree that aim should be to reduce fire risk in EV &amp; ICE: Ola CEO</td>\n",
       "      <td>Ola CEO Bhavish Aggarwal in response to Autocar India Editor Hormazd Sorabjee saying firms should aim to reduce fire risk as much as possible in both ICE and EV, said, \"Fully agree.\" \"Lithium [is] a tricky material and has fire risks,\" Sorabjee had said. Aggarwal had earlier responded to a Tata Nexon EV catching fire, saying, \"EV fires will happen.\"</td>\n",
       "      <td>automobile</td>\n",
       "    </tr>\n",
       "    <tr>\n",
       "      <th>296</th>\n",
       "      <td>296</td>\n",
       "      <td>Tata Motors passenger vehicle range gets a price hike of 0.55%</td>\n",
       "      <td>Tata Motors has raised the prices of its passenger vehicle range with immediate effect in order to partially offset the impact of rising input costs. The price hike is fixed at 0.55% and will be levied across the models from today. The firm has already hiked the prices of its commercial vehicle range by 1.5%-2.5% from July.\\n</td>\n",
       "      <td>automobile</td>\n",
       "    </tr>\n",
       "  </tbody>\n",
       "</table></div>"
      ],
      "text/plain": [
       "     Unnamed: 0                                              title  \\\n",
       "0             0  Uddhav fires Sena leaders for 'anti-party' act...   \n",
       "1             1  La Ganesan takes oath as Bengal Guv as Dhankha...   \n",
       "2             2  Nupur Sharma moves SC again, says 'got rape & ...   \n",
       "3             3  CBI arrests 8 persons for alleged malpractices...   \n",
       "4             4  Male model, friend arrested with cannabis wort...   \n",
       "..          ...                                                ...   \n",
       "292         292  China's BYD surpasses Tesla to become world's ...   \n",
       "293         293  Ford recalls 100,000 vehicles in US over poten...   \n",
       "294         294  Hero MotoCorp gets permit to use 'Hero' tradem...   \n",
       "295         295  Fully agree that aim should be to reduce fire ...   \n",
       "296         296  Tata Motors passenger vehicle range gets a pri...   \n",
       "\n",
       "                                               content    category  \n",
       "0    Former Maharashtra CM Uddhav Thackeray on Mond...    national  \n",
       "1    Manipur Governor La Ganesan on Monday took oat...    national  \n",
       "2    Suspended BJP leader Nupur Sharma has moved th...    national  \n",
       "3    The Central Bureau of Investigation (CBI) arre...    national  \n",
       "4    A 25-year-old Delhi-based model named Shubham ...    national  \n",
       "..                                                 ...         ...  \n",
       "292  Chinese automaker BYD has reportedly surpassed...  automobile  \n",
       "293  Automobile manufacturer Ford has recalled 100,...  automobile  \n",
       "294  A Delhi High Court-appointed arbitration panel...  automobile  \n",
       "295  Ola CEO Bhavish Aggarwal in response to Autoca...  automobile  \n",
       "296  Tata Motors has raised the prices of its passe...  automobile  \n",
       "\n",
       "[297 rows x 4 columns]"
      ]
     },
     "execution_count": 3,
     "metadata": {},
     "output_type": "execute_result"
    }
   ],
   "source": [
    "original = acquire.get_news_articles(use_cache=True)\n",
    "original"
   ]
  },
  {
   "cell_type": "code",
   "execution_count": 4,
   "metadata": {},
   "outputs": [
    {
     "name": "stdout",
     "output_type": "stream",
     "text": [
      "<class 'pandas.core.frame.DataFrame'>\n",
      "RangeIndex: 297 entries, 0 to 296\n",
      "Data columns (total 4 columns):\n",
      " #   Column      Non-Null Count  Dtype \n",
      "---  ------      --------------  ----- \n",
      " 0   Unnamed: 0  297 non-null    int64 \n",
      " 1   title       297 non-null    object\n",
      " 2   content     297 non-null    object\n",
      " 3   category    297 non-null    object\n",
      "dtypes: int64(1), object(3)\n",
      "memory usage: 9.4+ KB\n"
     ]
    }
   ],
   "source": [
    "original.info()"
   ]
  },
  {
   "cell_type": "markdown",
   "metadata": {},
   "source": [
    "## Exercises"
   ]
  },
  {
   "cell_type": "code",
   "execution_count": 5,
   "metadata": {},
   "outputs": [],
   "source": [
    "import unicodedata\n",
    "import re\n",
    "import json\n",
    "\n",
    "import nltk\n",
    "from nltk.tokenize.toktok import ToktokTokenizer\n",
    "from nltk.corpus import stopwords\n",
    "\n",
    "import pandas as pd\n",
    "\n",
    "import acquire\n"
   ]
  },
  {
   "cell_type": "code",
   "execution_count": 7,
   "metadata": {},
   "outputs": [
    {
     "name": "stdout",
     "output_type": "stream",
     "text": [
      "   Unnamed: 0                                              title  \\\n",
      "0           0     What Jobs Can You Get After a Coding Bootcamp?   \n",
      "1           1  What Jobs Can You Get After a Coding Bootcamp?...   \n",
      "2           2  Is Our Cloud Administration Program Right for ...   \n",
      "3           3  Inclusion at Codeup During Pride Month (and Al...   \n",
      "4           4          Mental Health First Aid Training - Codeup   \n",
      "\n",
      "                                             content  \n",
      "0  What Jobs Can You Get After a Coding Bootcamp?...  \n",
      "1  What Jobs Can You Get After a Coding Bootcamp?...  \n",
      "2  Is Our Cloud Administration Program Right for ...  \n",
      "3  Inclusion at Codeup During Pride Month (and Al...  \n",
      "4  Mental Health First Aid Training\\nMay 31, 2022...  \n"
     ]
    }
   ],
   "source": [
    "original = acquire.title_and_content_scrapes()\n",
    "print(original[0:5])"
   ]
  },
  {
   "cell_type": "code",
   "execution_count": 8,
   "metadata": {},
   "outputs": [
    {
     "data": {
      "text/html": [
       "<div><div id=ee6da957-751c-49ab-9456-8e0b5c298897 style=\"display:none; background-color:#9D6CFF; color:white; width:200px; height:30px; padding-left:5px; border-radius:4px; flex-direction:row; justify-content:space-around; align-items:center;\" onmouseover=\"this.style.backgroundColor='#BA9BF8'\" onmouseout=\"this.style.backgroundColor='#9D6CFF'\" onclick=\"window.commands?.execute('create-mitosheet-from-dataframe-output');\">See Full Dataframe in Mito</div> <script> if (window.commands?.hasCommand('create-mitosheet-from-dataframe-output')) document.getElementById('ee6da957-751c-49ab-9456-8e0b5c298897').style.display = 'flex' </script> <table border=\"1\" class=\"dataframe\">\n",
       "  <thead>\n",
       "    <tr style=\"text-align: right;\">\n",
       "      <th></th>\n",
       "      <th>Unnamed: 0</th>\n",
       "      <th>title</th>\n",
       "      <th>content</th>\n",
       "    </tr>\n",
       "  </thead>\n",
       "  <tbody>\n",
       "    <tr>\n",
       "      <th>0</th>\n",
       "      <td>0</td>\n",
       "      <td>What Jobs Can You Get After a Coding Bootcamp?</td>\n",
       "      <td>What Jobs Can You Get After a Coding Bootcamp? Part 1: Data Science\\nJul 7, 2022 | Data Science, Featured, Tips for Prospective Students\\n\\n\\nIf you are interested in embarking on a career in tech, you’re probably wondering what your new job title could be, and even what your salary might look like.* In this mini-series, we will take each of our programs here at Codeup: Data Science, Web Development, and Cloud Administration, and outline respectively potential job titles, as well as entry-level salaries. Today we will be diving into our Data Science program, with four potential job titles you could take on!\\nProgram Overview \\nDuring this 20-week program, you will have the opportunity to take your career to new heights with data science being one of the most needed jobs in tech. You’ll gather data, then clean it, explore it for trends, and apply machine learning models to make predictions.\\nUpon completing this program, you will know how to turn insights into actionable recommendations. You’ll be a huge asset to any company, having all the technical skills to become a data scientist with projects upon projects of experience under your belt. \\n1. Data Scientist \\nEssentially, a Data Scientist is responsible for analyzing how a business performs to ensure the business stays competitive and relevant. They review the data for deeper meaning and examine it for patterns in an effort to create solutions to business problems. According to Zip Recruiter, the average entry-level salary for a Data Scientist in Texas is $60,677.\\n2. Data Analyst\\nA Data Analyst finds ways to solve a business’ problems through raw data analysis. They are then responsible for sharing this information with management and stakeholders. According to Indeed, the average entry-level salary for a Data Analyst is $60,332.\\n3. Machine Learning Engineer \\nA Machine Learning (ML) Engineer is usually on a Data Science team. They are responsible for artificial intelligence, and its functions as well as making predictions on other machine learning capabilities. They will create ML prototypes and models, then test and retrain where necessary. According to Salary.com, the average entry-level salary for a ML Engineer is $115,795.\\n4. Business Intelligence Analyst \\nA Business Intelligence Analyst, also known as a BI Analyst is responsible for understanding computer programming languages. Their primary goal is to give accurate insight to decision-makers regarding the market, productivity, competition, and customer responses. According to Payscale, the average entry-level salary for a BI Analyst is $58,627.\\nWe understand changing careers can be scary. If you chose Codeup, we will make sure you are plenty prepared to not only take on one of these roles but succeed in it. \\nThis program gives you more than a textbook and a bank of pre-recorded lectures. You get hands-on instruction from industry experts, along with the power to change your life. \\nIf you’re ready, apply today and let’s turn your dreams into reality and get your seat secured in our next Data Science cohort. \\n \\n*Disclaimer: All information presented in this article is by no means guaranteed by completing a Codeup program. Salaries and duties vary based on factors such as company, location, and experience. These salaries are estimates based on San Antonio, TX data, and these duties are general and may not be exact for every position.</td>\n",
       "    </tr>\n",
       "    <tr>\n",
       "      <th>1</th>\n",
       "      <td>1</td>\n",
       "      <td>What Jobs Can You Get After a Coding Bootcamp? Part 2: Cloud Administration</td>\n",
       "      <td>What Jobs Can You Get After a Coding Bootcamp? Part 2: Cloud Administration\\nJul 14, 2022 | Featured\\n\\n\\nHave you been considering a career in Cloud Administration, but have no idea what your job title or potential salary could be? Continue reading below to find out!\\nIn this mini-series, we will take each of our programs here at Codeup: Data Science, Web Development, and Cloud Administration, and outline respectively potential job titles, as well as entry-level salaries.* Let’s discuss Cloud Administration.\\nProgram Overview\\nAt Codeup, we offer a 15-week Cloud Administration program, which was derived from our previous two programs: Systems Engineering and Cyber Cloud. We combined the best of both and blended hands-on practical knowledge with skilled instructors to create the Cloud Administration program.\\nUpon completing this program, you’ll have the opportunity to take on two exams for certifications: Amazon Web Services (AWS) Cloud Practitioner and AWS Solutions Architect Associate. \\nPotential Jobs\\nAccording to A Cloud Guru, with an AWS Certification you’ll be equipped with the knowledge and experience to secure a job as the following:\\n1. Cloud Architect\\nAs a Cloud Architect, you will double as an IT specialist responsible for your organization’s cloud infrastructure. This includes system monitoring, computing strategy, planning, building and deployment. An entry-level Cloud Architect can make an estimated $93,892 annually according to Glassdoor. \\n2. Cloud Developer\\nA Cloud Developer’s main duties align with a software developer’s. The differentiating factor is a Cloud Developer operates virtually with cloud computing technology. This may include the design, analysis and maintenance of a company’s cloud infrastructure. An entry-level Cloud Developer can make an estimated $89,652 annually according to Glassdoor. \\n3. Cloud Systems Administrator\\nA Cloud Systems Administrator can be expected to provide insight on cloud systems, specifically working with IT to provide assistance and resolve operational issues. An entry-level Cloud Systems Administrator can make an estimated $64,805 annually according to Glassdoor.\\nHonorable Mention\\nA few additional roles to consider with AWS Certification include: \\n\\nCloud DevOps Engineer- Estimated Entry-Level Salary $88,563\\nCloud Security Engineer- Estimated Entry-Level Salary $85,111\\nCloud Data Architect- Estimated Entry-Level Salary $91,598\\nCloud Consultant- Estimated Entry-Level Salary $72,474\\n\\nInterested in the other parts of this mini-series? Check them out below!\\n\\nPart 1: Data Science\\nPart 3: Web Development (Coming Soon!) \\n\\n*Disclaimer: All information presented in this article is by no means guaranteed by completing a Codeup program. Salaries and duties vary based on factors such as company, location, and experience. These salaries are estimates based on San Antonio, TX data, and these duties are general and may not be exact for every position.</td>\n",
       "    </tr>\n",
       "    <tr>\n",
       "      <th>2</th>\n",
       "      <td>2</td>\n",
       "      <td>Is Our Cloud Administration Program Right for You? - Codeup</td>\n",
       "      <td>Is Our Cloud Administration Program Right for You?\\nJun 8, 2022 | Featured, IT Training, Tips for Prospective Students\\n\\n\\nChanging careers can be scary. The first thing you may be asking yourself is, “where do I begin?” If you are looking into a career in tech, but coding or statistics aren’t your thing, our brand new Cloud Administration program might be just for you!\\nWhat Exactly is Cloud Administration?\\nThe future is in the cloud! As the new way of doing business, all kinds of companies need to build or interact with cloud products. These aren’t just high-tech solutions – they’re the core of everyday products like cloud-based gaming from Xbox, collaborative work tools from Google Drive, and even music streaming services from Spotify! A Cloud Administrator works with software developers to design, build, maintain, and optimize a cloud architecture to run software applications.\\nWhat Will You Learn?\\nJust like our Data Science and Web Development programs, the Cloud Administration program is considered a career accelerator. Unlike a traditional 4 year degree, you can complete our program in just 15 weeks! You will receive hands-on training in:\\n\\nNetworking fundamentals\\nLinux Operating System\\nWindows Operating System\\nCloud and Computer Security\\nAmazon Web Services (AWS Cloud)\\n\\nYou’ll even earn two industry-recognized certifications as an AWS Cloud Practitioner and AWS Solutions Architect Associate, fully included in your tuition. You’ll learn how each technology works together, and how they are applied to real projects by starting simple, then progressively getting more complex as you add more tools to your toolbox. We’ll teach you to build infrastructure that enables software and data science products, manage cloud deployments, and optimize for cloud performance. \\nAs for instruction, we are dedicated to giving you the best. Your instructors are speaking from real industry experience, and are invested in every student’s success. They’re essentially your personal mentors providing on-the-ground support, making themselves accessible to you when you need them. \\nYour Success\\nNot only will you be equipped with in-demand cloud skills, but you’ll also get professional development along the way, including help polishing your resume and LinkedIn, as well as access to our employer network. This program, with the support of our career coaches and placement team, can help you become a: \\n\\nCloud Administrator\\nCloud Architect\\nCloud Engineer\\nCloud Network Engineer\\nCloud Security Engineer \\n\\nYou’re not stuck in one lane when you come to Codeup. With our instructors, coaches, and placement team you can take what you learn and run with it. Cloud technology is improving every single day and this course can ensure you are at the forefront of helping build and maintain that technology. \\nCodeup Payment Options\\nFinancing your career transition can be a bit stressful, but we never want it to stop you from changing your career and applying. We have a dedicated Financial Aid and Enrollment team to walk you through every possible option to pay for your tuition here at Codeup. Whether you are using your VA benefits, grants, loans, scholarships, or self-paying, our team will work with you to ensure you receive all forms of financial aid for which you qualify. You can change your career regardless of your financial situation.\\nWant more information on our Cloud Administration program? Check our student reviews, and our blog on 5 Reasons We Think You Should Attend the Cloud Administration program. You can do more than dream of this life-changing career – you can LIVE IT!. Our application process is the first step to beginning your journey in Cloud Administration today!</td>\n",
       "    </tr>\n",
       "    <tr>\n",
       "      <th>3</th>\n",
       "      <td>3</td>\n",
       "      <td>Inclusion at Codeup During Pride Month (and Always) - Codeup</td>\n",
       "      <td>Inclusion at Codeup During Pride Month (and Always)\\nJun 1, 2022 | Codeup News\\n\\n\\nHappy Pride Month! Pride Month is a dedicated time to celebrate and support the LGBTQIA+ community. At Codeup, one of our core values is Cultivating Inclusive Growth, something that takes on many shapes, sizes, forms, and colors. From representation in tech to empowering and supporting all, let’s reflect on how we live out this core value for our LGBTQIA+ community, not just during Pride Month, but always.\\nCultivating Inclusive Growth\\nWe’re firm believers that the people making tech should look like the people using it, which is everyone. We’re proud to offer Pride Scholarships year round, which aim to increase, support, and promote representation of the LGBTQIA+ community in tech. However, representation is only one part of cultivating inclusive growth. We want to help create a thriving tech community where everyone feels represented, but also safe and empowered.\\nIn a 2019 survey conducted by Blind, 83% of LGBQ technologists and 78% of trans or gender non-conforming technologists reported that they felt safe in the workplace. In 2020, those numbers dropped to 76% and 64%, respectively.\\nWhy the drop? Maybe recent pushes for representation in tech weren’t followed up with efforts to truly cultivate inclusivity and growth.\\nCodeup Initiatives\\nTo cultivate inclusive growth, we don’t stop at representation. We also empower and support our community so that no one feels unsafe. Our internal DEI Taskforce empowers our staff with resources and conversations that aim to create a diverse culture of support, safety, and inclusivity for each other and our students.\\nEquipped with this knowledge, our staff can cultivate inclusive growth from the first time they interact with an applicant all the way until they get placed into a new job. They may have even felt empowered just by seeing our students and staff sporting their Pride t-shirts around town. \\nNot only do we want the people making tech to look like the people using it, we also want them to feel safe and empowered to do so.\\nIf you’re looking for a career in tech, let us empower you every step of the way! First, apply now. Then, apply for our Pride Scholarship.</td>\n",
       "    </tr>\n",
       "    <tr>\n",
       "      <th>4</th>\n",
       "      <td>4</td>\n",
       "      <td>Mental Health First Aid Training - Codeup</td>\n",
       "      <td>Mental Health First Aid Training\\nMay 31, 2022 | Tips for Prospective Students\\n\\n\\nAs a student of Codeup, going through a massive career transition can be mentally taxing. Did you know that members of our student-facing staff and human resources team are trained in Mental Health First Aid? Let’s dive into what that means for Codeup! \\nMental Health First Aid Training \\nSome of our Codeup staff that works directly with our students are trained in Mental Health First Aid. This includes members of our student experience team, career coaches, and the human resources department. This training was courtesy of the Center for Health Care Services in San Antonio. They graciously provided the funding and training for our team in this pilot training program. \\nWhat is Mental Health First Aid? According to mentalhhealthfirstaid.org, “is a course that teaches you how to identify, understand, and respond to signs of mental illness and substance use disorders. The training gives you the skills you need to reach out and provide initial help and support to someone who may be developing a mental health or substance use problem or experiencing a crisis”.\\nTo be clear, our staff are not licensed, mental health professionals. What MHFA equips our staff with are tools to gauge risk and connect students and staff with the help they might need. This might include recognizing something in a meeting, picking up on cues during a casual conversation, or acting on a pattern behavior. \\nHow does this help our students?\\nMany who go through Codeup’s programs will tell you it is both rewarding and challenging all at the same time. Some students have compared learning at Codeup to  “drinking from a firehouse”. You learn so much at once, so fast. This style of learning if you are not used to it can be taxing on anyone’s mental fortitude. This allows our staff who work closely with the students to be able to identify if a student is in need of mental health help. \\nConsider Your Career Change Today\\nWhy does this skill set matter? You! We’re here to support your career transition as best we can, and Mental Health First Aid training is just one small piece of that larger support effort. Learn more about how we can support your career transition by applying today.</td>\n",
       "    </tr>\n",
       "  </tbody>\n",
       "</table></div>"
      ],
      "text/plain": [
       "   Unnamed: 0                                              title  \\\n",
       "0           0     What Jobs Can You Get After a Coding Bootcamp?   \n",
       "1           1  What Jobs Can You Get After a Coding Bootcamp?...   \n",
       "2           2  Is Our Cloud Administration Program Right for ...   \n",
       "3           3  Inclusion at Codeup During Pride Month (and Al...   \n",
       "4           4          Mental Health First Aid Training - Codeup   \n",
       "\n",
       "                                             content  \n",
       "0  What Jobs Can You Get After a Coding Bootcamp?...  \n",
       "1  What Jobs Can You Get After a Coding Bootcamp?...  \n",
       "2  Is Our Cloud Administration Program Right for ...  \n",
       "3  Inclusion at Codeup During Pride Month (and Al...  \n",
       "4  Mental Health First Aid Training\\nMay 31, 2022...  "
      ]
     },
     "execution_count": 8,
     "metadata": {},
     "output_type": "execute_result"
    }
   ],
   "source": [
    "original.head()"
   ]
  },
  {
   "cell_type": "code",
   "execution_count": 10,
   "metadata": {},
   "outputs": [
    {
     "data": {
      "text/plain": [
       "'what jobs can you get after a coding bootcamp? part 1: data science\\njul 7, 2022 | data science, featured, tips for prospective students\\n\\n\\nif you are interested in embarking on a career in tech, you’re probably wondering what your new job title could be, and even what your salary might look like.*\\xa0in this mini-series, we will take each of our programs here at codeup: data science, web development, and cloud administration, and outline respectively potential job titles, as well as entry-level salaries.\\xa0today we will be diving into our data science program, with four potential job titles you could take on!\\nprogram overview\\xa0\\nduring this 20-week program, you will have the opportunity to take your career to new heights with data science being one of the most needed jobs in tech. you’ll gather data, then clean it, explore it for trends, and apply machine learning models to make predictions.\\nupon completing this program, you will know how to turn insights into actionable recommendations. you’ll be a huge asset to any company, having all the technical skills to become a data scientist with projects upon projects of experience under your belt.\\xa0\\n1. data scientist\\xa0\\nessentially, a data scientist is responsible for analyzing how a business performs to ensure the business stays competitive and relevant. they review the data for deeper meaning and examine it for patterns in an effort to create solutions to business problems. according to zip recruiter, the average entry-level salary for a data scientist in texas is $60,677.\\n2. data analyst\\na data analyst finds ways to solve a business’ problems through raw data analysis. they are then responsible for sharing this information with management and stakeholders. according to indeed, the average entry-level salary for a data analyst is $60,332.\\n3. machine learning engineer\\xa0\\na machine learning (ml) engineer is usually on a data science team. they are responsible for artificial intelligence, and its functions as well as making predictions on other machine learning capabilities. they will create ml prototypes and models, then test and retrain where necessary. according to salary.com, the average entry-level salary for a ml engineer is $115,795.\\n4. business intelligence analyst\\xa0\\na business intelligence analyst, also known as a bi analyst is responsible for understanding computer programming languages. their primary goal is to give accurate insight to decision-makers regarding the market, productivity, competition, and customer responses. according to payscale, the average entry-level salary for a bi analyst is $58,627.\\nwe understand changing careers can be scary. if you chose codeup, we will make sure you are plenty prepared to not only take on one of these roles but succeed in it.\\xa0\\nthis program gives you more than a textbook and a bank of pre-recorded lectures. you get hands-on instruction from industry experts, along with the power to change your life.\\xa0\\nif you’re ready, apply today and let’s turn your dreams into reality and get your seat secured in our next data science cohort.\\xa0\\n\\xa0\\n*disclaimer: all information presented in this article is by no means guaranteed by completing a codeup program. salaries and duties vary based on factors such as company, location, and experience. these salaries are estimates based on san antonio, tx data, and these duties are general and may not be exact for every position.'"
      ]
     },
     "execution_count": 10,
     "metadata": {},
     "output_type": "execute_result"
    }
   ],
   "source": [
    "# select the text to work with\n",
    "article = original.content[0]\n",
    "# lowercase all text\n",
    "article = article.lower()\n",
    "article"
   ]
  },
  {
   "cell_type": "code",
   "execution_count": 11,
   "metadata": {},
   "outputs": [
    {
     "data": {
      "text/plain": [
       "'what jobs can you get after a coding bootcamp? part 1: data science\\njul 7, 2022 | data science, featured, tips for prospective students\\n\\n\\nif you are interested in embarking on a career in tech, youre probably wondering what your new job title could be, and even what your salary might look like.* in this mini-series, we will take each of our programs here at codeup: data science, web development, and cloud administration, and outline respectively potential job titles, as well as entry-level salaries. today we will be diving into our data science program, with four potential job titles you could take on!\\nprogram overview \\nduring this 20-week program, you will have the opportunity to take your career to new heights with data science being one of the most needed jobs in tech. youll gather data, then clean it, explore it for trends, and apply machine learning models to make predictions.\\nupon completing this program, you will know how to turn insights into actionable recommendations. youll be a huge asset to any company, having all the technical skills to become a data scientist with projects upon projects of experience under your belt. \\n1. data scientist \\nessentially, a data scientist is responsible for analyzing how a business performs to ensure the business stays competitive and relevant. they review the data for deeper meaning and examine it for patterns in an effort to create solutions to business problems. according to zip recruiter, the average entry-level salary for a data scientist in texas is $60,677.\\n2. data analyst\\na data analyst finds ways to solve a business problems through raw data analysis. they are then responsible for sharing this information with management and stakeholders. according to indeed, the average entry-level salary for a data analyst is $60,332.\\n3. machine learning engineer \\na machine learning (ml) engineer is usually on a data science team. they are responsible for artificial intelligence, and its functions as well as making predictions on other machine learning capabilities. they will create ml prototypes and models, then test and retrain where necessary. according to salary.com, the average entry-level salary for a ml engineer is $115,795.\\n4. business intelligence analyst \\na business intelligence analyst, also known as a bi analyst is responsible for understanding computer programming languages. their primary goal is to give accurate insight to decision-makers regarding the market, productivity, competition, and customer responses. according to payscale, the average entry-level salary for a bi analyst is $58,627.\\nwe understand changing careers can be scary. if you chose codeup, we will make sure you are plenty prepared to not only take on one of these roles but succeed in it. \\nthis program gives you more than a textbook and a bank of pre-recorded lectures. you get hands-on instruction from industry experts, along with the power to change your life. \\nif youre ready, apply today and lets turn your dreams into reality and get your seat secured in our next data science cohort. \\n \\n*disclaimer: all information presented in this article is by no means guaranteed by completing a codeup program. salaries and duties vary based on factors such as company, location, and experience. these salaries are estimates based on san antonio, tx data, and these duties are general and may not be exact for every position.'"
      ]
     },
     "execution_count": 11,
     "metadata": {},
     "output_type": "execute_result"
    }
   ],
   "source": [
    "# remove accented characters\n",
    "# unicode: removes character encoding incosistencies\n",
    "# .encode: converts resulting str chars to ASCII set. ignore errors will drop no ASCII chars\n",
    "# .decode turns the bytes object back into an str\n",
    "article = unicodedata.normalize('NFKD', article)\\\n",
    "    .encode('ascii', 'ignore')\\\n",
    "    .decode('utf-8', 'ignore')\n",
    "\n",
    "article"
   ]
  },
  {
   "cell_type": "code",
   "execution_count": 12,
   "metadata": {},
   "outputs": [
    {
     "data": {
      "text/plain": [
       "'what jobs can you get after a coding bootcamp part 1 data science\\njul 7 2022  data science featured tips for prospective students\\n\\n\\nif you are interested in embarking on a career in tech youre probably wondering what your new job title could be and even what your salary might look like in this miniseries we will take each of our programs here at codeup data science web development and cloud administration and outline respectively potential job titles as well as entrylevel salaries today we will be diving into our data science program with four potential job titles you could take on\\nprogram overview \\nduring this 20week program you will have the opportunity to take your career to new heights with data science being one of the most needed jobs in tech youll gather data then clean it explore it for trends and apply machine learning models to make predictions\\nupon completing this program you will know how to turn insights into actionable recommendations youll be a huge asset to any company having all the technical skills to become a data scientist with projects upon projects of experience under your belt \\n1 data scientist \\nessentially a data scientist is responsible for analyzing how a business performs to ensure the business stays competitive and relevant they review the data for deeper meaning and examine it for patterns in an effort to create solutions to business problems according to zip recruiter the average entrylevel salary for a data scientist in texas is 60677\\n2 data analyst\\na data analyst finds ways to solve a business problems through raw data analysis they are then responsible for sharing this information with management and stakeholders according to indeed the average entrylevel salary for a data analyst is 60332\\n3 machine learning engineer \\na machine learning ml engineer is usually on a data science team they are responsible for artificial intelligence and its functions as well as making predictions on other machine learning capabilities they will create ml prototypes and models then test and retrain where necessary according to salarycom the average entrylevel salary for a ml engineer is 115795\\n4 business intelligence analyst \\na business intelligence analyst also known as a bi analyst is responsible for understanding computer programming languages their primary goal is to give accurate insight to decisionmakers regarding the market productivity competition and customer responses according to payscale the average entrylevel salary for a bi analyst is 58627\\nwe understand changing careers can be scary if you chose codeup we will make sure you are plenty prepared to not only take on one of these roles but succeed in it \\nthis program gives you more than a textbook and a bank of prerecorded lectures you get handson instruction from industry experts along with the power to change your life \\nif youre ready apply today and lets turn your dreams into reality and get your seat secured in our next data science cohort \\n \\ndisclaimer all information presented in this article is by no means guaranteed by completing a codeup program salaries and duties vary based on factors such as company location and experience these salaries are estimates based on san antonio tx data and these duties are general and may not be exact for every position'"
      ]
     },
     "execution_count": 12,
     "metadata": {},
     "output_type": "execute_result"
    }
   ],
   "source": [
    "# remove special characters\n",
    "article = re.sub(r\"[^a-z0-9'\\s]\", '', article)\n",
    "article"
   ]
  },
  {
   "cell_type": "code",
   "execution_count": 13,
   "metadata": {},
   "outputs": [
    {
     "name": "stdout",
     "output_type": "stream",
     "text": [
      "what jobs can you get after a coding bootcamp part 1 data science\n",
      "jul 7 2022 data science featured tips for prospective students\n",
      "\n",
      "\n",
      "if you are interested in embarking on a career in tech youre probably wondering what your new job title could be and even what your salary might look like in this miniseries we will take each of our programs here at codeup data science web development and cloud administration and outline respectively potential job titles as well as entrylevel salaries today we will be diving into our data science program with four potential job titles you could take on\n",
      "program overview \n",
      "during this 20week program you will have the opportunity to take your career to new heights with data science being one of the most needed jobs in tech youll gather data then clean it explore it for trends and apply machine learning models to make predictions\n",
      "upon completing this program you will know how to turn insights into actionable recommendations youll be a huge asset to any company having all the technical skills to become a data scientist with projects upon projects of experience under your belt \n",
      "1 data scientist \n",
      "essentially a data scientist is responsible for analyzing how a business performs to ensure the business stays competitive and relevant they review the data for deeper meaning and examine it for patterns in an effort to create solutions to business problems according to zip recruiter the average entrylevel salary for a data scientist in texas is 60677\n",
      "2 data analyst\n",
      "a data analyst finds ways to solve a business problems through raw data analysis they are then responsible for sharing this information with management and stakeholders according to indeed the average entrylevel salary for a data analyst is 60332\n",
      "3 machine learning engineer \n",
      "a machine learning ml engineer is usually on a data science team they are responsible for artificial intelligence and its functions as well as making predictions on other machine learning capabilities they will create ml prototypes and models then test and retrain where necessary according to salarycom the average entrylevel salary for a ml engineer is 115795\n",
      "4 business intelligence analyst \n",
      "a business intelligence analyst also known as a bi analyst is responsible for understanding computer programming languages their primary goal is to give accurate insight to decisionmakers regarding the market productivity competition and customer responses according to payscale the average entrylevel salary for a bi analyst is 58627\n",
      "we understand changing careers can be scary if you chose codeup we will make sure you are plenty prepared to not only take on one of these roles but succeed in it \n",
      "this program gives you more than a textbook and a bank of prerecorded lectures you get handson instruction from industry experts along with the power to change your life \n",
      "if youre ready apply today and lets turn your dreams into reality and get your seat secured in our next data science cohort \n",
      " \n",
      "disclaimer all information presented in this article is by no means guaranteed by completing a codeup program salaries and duties vary based on factors such as company location and experience these salaries are estimates based on san antonio tx data and these duties are general and may not be exact for every position\n"
     ]
    }
   ],
   "source": [
    "# tokenization:\n",
    "# break words and punctuation left over into discrete units\n",
    "tokenizer = nltk.tokenize.ToktokTokenizer()\n",
    "print(tokenizer.tokenize(article, return_str=True))"
   ]
  },
  {
   "cell_type": "code",
   "execution_count": null,
   "metadata": {},
   "outputs": [],
   "source": []
  }
 ],
 "metadata": {
  "kernelspec": {
   "display_name": "Python 3.9.7 ('base')",
   "language": "python",
   "name": "python3"
  },
  "language_info": {
   "codemirror_mode": {
    "name": "ipython",
    "version": 3
   },
   "file_extension": ".py",
   "mimetype": "text/x-python",
   "name": "python",
   "nbconvert_exporter": "python",
   "pygments_lexer": "ipython3",
   "version": "3.9.7"
  },
  "orig_nbformat": 4,
  "vscode": {
   "interpreter": {
    "hash": "38cca0c38332a56087b24af0bc80247f4fced29cb4f7f437d91dc159adec9c4e"
   }
  }
 },
 "nbformat": 4,
 "nbformat_minor": 2
}
